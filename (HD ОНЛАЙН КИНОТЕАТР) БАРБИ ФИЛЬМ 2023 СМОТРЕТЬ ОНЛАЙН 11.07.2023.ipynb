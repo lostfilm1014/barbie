{
  "nbformat": 4,
  "nbformat_minor": 0,
  "metadata": {
    "colab": {
      "provenance": [],
      "authorship_tag": "ABX9TyNsxZHjuApEbjsxcPeHlYS5",
      "include_colab_link": true
    },
    "kernelspec": {
      "name": "python3",
      "display_name": "Python 3"
    },
    "language_info": {
      "name": "python"
    }
  },
  "cells": [
    {
      "cell_type": "markdown",
      "metadata": {
        "id": "view-in-github",
        "colab_type": "text"
      },
      "source": [
        "<a href=\"https://colab.research.google.com/github/lostfilm1014/barbie/blob/main/(HD%20%D0%9E%D0%9D%D0%9B%D0%90%D0%99%D0%9D%20%D0%9A%D0%98%D0%9D%D0%9E%D0%A2%D0%95%D0%90%D0%A2%D0%A0)%20%D0%91%D0%90%D0%A0%D0%91%D0%98%20%D0%A4%D0%98%D0%9B%D0%AC%D0%9C%202023%20%D0%A1%D0%9C%D0%9E%D0%A2%D0%A0%D0%95%D0%A2%D0%AC%20%D0%9E%D0%9D%D0%9B%D0%90%D0%99%D0%9D%2011.07.2023.ipynb\" target=\"_parent\"><img src=\"https://colab.research.google.com/assets/colab-badge.svg\" alt=\"Open In Colab\"/></a>"
      ]
    },
    {
      "cell_type": "code",
      "execution_count": null,
      "metadata": {
        "id": "dUnIjvpKXZCO"
      },
      "outputs": [],
      "source": []
    },
    {
      "cell_type": "markdown",
      "source": [
        "(HD ОНЛАЙН КИНОТЕАТР) БАРБИ ФИЛЬМ 2023 СМОТРЕТЬ ОНЛАЙН 11.07.2023\n",
        "<p><a href=\"https://tdj8b.7ie2.shop/p/PciO\" target=\"_blank\" rel=\"noopener noreferrer\"><img src=\"https://i.imgur.com/2skYgg1.gif?top-gun-maverick\" alt=\"Ver ONE PIECE FILM RED Online\" /></a></p>\n",
        "<p>&nbsp;</p>"
      ],
      "metadata": {
        "id": "tf-Ltn1cXg34"
      }
    },
    {
      "cell_type": "code",
      "source": [],
      "metadata": {
        "id": "OdLwyaHGX-Jz"
      },
      "execution_count": null,
      "outputs": []
    },
    {
      "cell_type": "code",
      "source": [
        "import IPython\n",
        "IPython.display.HTML('<h2></h2><iframe width=\"560\" height=\"315\" src=\"https://video.wixstatic.com/video/0ecd2a_7e1ddbb227d247a5a48f708fd44649be/480p/mp4/file.mp4\" title=\"YouTube video player\" frameborder=\"0\" allow=\"accelerometer; autoplay; clipboard-write; encrypted-media; gyroscope; picture-in-picture\" allowfullscreen></iframe>')"
      ],
      "metadata": {
        "colab": {
          "base_uri": "https://localhost:8080/",
          "height": 353
        },
        "id": "yY_7iumyX-ML",
        "outputId": "cf078055-6789-4aac-b8af-d6376771a95a"
      },
      "execution_count": null,
      "outputs": [
        {
          "output_type": "execute_result",
          "data": {
            "text/plain": [
              "<IPython.core.display.HTML object>"
            ],
            "text/html": [
              "<h2></h2><iframe width=\"560\" height=\"315\" src=\"https://video.wixstatic.com/video/63c006_4a912631fb6f42e49a3d1fa4ad2ccfd3/720p/mp4/file.mp4\" title=\"YouTube video player\" frameborder=\"0\" allow=\"accelerometer; autoplay; clipboard-write; encrypted-media; gyroscope; picture-in-picture\" allowfullscreen></iframe>"
            ]
          },
          "metadata": {},
          "execution_count": 1
        }
      ]
    }
  ]
}